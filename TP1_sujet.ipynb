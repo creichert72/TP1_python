{
 "cells": [
  {
   "cell_type": "markdown",
   "id": "0fdd88d5",
   "metadata": {},
   "source": [
    "# Problème I: à propos d'epsilon\n",
    "1. Soit $f$ la fonction définie par $$f(x)= \\frac{(1+x)-1}{x}$$\n",
    "  Tracer $f-1$ sur l'intervalle $[-10^{-14}, 10^{-14}]$ en utilisant $500$ points.  \n",
    "  Tracer également $\\frac{\\epsilon}{x}$ avec $\\epsilon = 2^{-53}$. Observations ? \n",
    "2. Ecrire un algorithme qui permet de déterminer le plus petit nombre réel de la forme \n",
    "   $x=2^{-n},\\ n\\in \\mathbb{N}$ tel que $1 + x > 1$, c'est-à-dire $1 + x$ est évalué\n",
    "   strictement supérieur à 1 par python.\n",
    "   \n",
    "<div class=\"alert alert-block alert-info\">\n",
    "    Instructions utiles: <TT>linspace</TT> de numpy, <TT>figure</TT>, \n",
    "    <TT>add_subplot</TT>, <TT>plot</TT> de matplotlib\n",
    "<div>"
   ]
  },
  {
   "cell_type": "code",
   "execution_count": 3,
   "id": "015c93e3",
   "metadata": {},
   "outputs": [],
   "source": [
    "import numpy as np\n",
    "import matplotlib.pyplot as plt\n",
    "%matplotlib ipympl"
   ]
  },
  {
   "cell_type": "code",
   "execution_count": 5,
   "id": "3d4e84da",
   "metadata": {},
   "outputs": [],
   "source": [
    "# Question 1:\n"
   ]
  },
  {
   "cell_type": "code",
   "execution_count": 6,
   "id": "34580f35",
   "metadata": {},
   "outputs": [],
   "source": [
    "# Question 2\n"
   ]
  },
  {
   "cell_type": "markdown",
   "id": "149d064e",
   "metadata": {},
   "source": [
    "# Problème II: une suite d'Archimède\n",
    "En 250 av. J.-C. Archimède de Syracuse a estimé le nombre $\\pi$ \n",
    "en déterminant les périmètres $p_n$ des polygônes réguliers à $2^n$ cotés \n",
    "inscrits dans un cercle de diamètre $1$.  En particulier,  $p_2 = 2\\sqrt{2}$ correspond au  périmètre du carré inscrit\n",
    "et la relation de récurrence suivante \n",
    "$$\n",
    "p_{n+1} = 2^n \\sqrt{2 \\left(1 - \\sqrt{1 - (p_n/2^n)^2}\\right)},\n",
    "$$\n",
    "permet de calculer de manière itérative les $p_n$ pour tout $n>2$.\n",
    "\n",
    "1. Calculer et tracer les $p_n$, pour $\\ n = 2,\\ldots,60$. Explication ?\n",
    "2. Pour stabiliser l'algorithme, il suffit de remarquer que :  \n",
    "   $$\n",
    "   p_{n+1} = 2^n \\sqrt{r_{n+1}},~~r_{n+1} = 2 \\left(1 - \\sqrt{1 -\n",
    "   (p_n/2^n)^2}\\right),\n",
    "   $$\n",
    "   où $r_{n+1}$ vérifie\n",
    "   $$ r_{n+1} = \\frac{r_n}{2 + \\sqrt{4 - r_n}}, \\quad \\text{et} \\quad r_3 = \n",
    "   2/(2+\\sqrt{2}).\n",
    "   $$\n",
    "   Calculer et tracer les $p_n$ avec cette nouvelle approche jusqu'à $n=300$. Quelle est la\n",
    "   différence entre $p_{300}$ et la constante pi de numpy ?\n",
    "   \n",
    "<div class=\"alert alert-block alert-info\">\n",
    "    Instructions utiles: <TT>zeros</TT>, <TT>sqrt</TT>, <TT>arange</TT> de numpy \n",
    "    et les instructions matplotlib pour tracer\n",
    "<div>"
   ]
  },
  {
   "cell_type": "code",
   "execution_count": 3,
   "id": "7069e483",
   "metadata": {},
   "outputs": [],
   "source": [
    "# Question 1:\n"
   ]
  },
  {
   "cell_type": "code",
   "execution_count": 4,
   "id": "927c89ad",
   "metadata": {},
   "outputs": [],
   "source": [
    "# Question 2:\n"
   ]
  },
  {
   "cell_type": "markdown",
   "id": "d30b6903",
   "metadata": {},
   "source": [
    "# Problème III: un calcul d'intégrale\n",
    "On souhaite maintenant estimer l'intégrale suivante\n",
    "$$ I_{N} = \\int_{0}^{1} x^{N}e^{x} dx, \\quad \\quad \\text{pour} \\quad N=20.$$\n",
    "1. Trouver une formule de récurrence entre $I_{N}$ et $I_{N-1}$. En déduire une estimation \n",
    "   numérique de $I_{20}$\n",
    "2. A partir du développement en série entière de $e^{x}$, montrer que \n",
    "   $$ I_{20} = \\sum_{n=0}^{\\infty} \\frac{1}{n ! (21 + n)}.$$\n",
    "   En déduire un nouvelle approximation numérique de $I_{20}$ en tronquant cette série. \n",
    "3. Quel est la bonne estimation numérique de $I_{20}$ ?\n",
    "\n",
    "<div class=\"alert alert-block alert-info\">\n",
    "    Instructions utiles: <TT>exp</TT> de numpy \n",
    "    et les instructions utilisées précédemment. On peut utiliser la factorielle avec\n",
    "    <TT>from scipy.special import factorial</TT>\n",
    "<div>"
   ]
  },
  {
   "cell_type": "code",
   "execution_count": 2,
   "id": "421b7c13",
   "metadata": {},
   "outputs": [],
   "source": [
    "# Question 1:\n"
   ]
  },
  {
   "cell_type": "code",
   "execution_count": 1,
   "id": "db4d6029",
   "metadata": {},
   "outputs": [],
   "source": [
    "# Question 2:\n"
   ]
  },
  {
   "cell_type": "code",
   "execution_count": null,
   "id": "b8368201",
   "metadata": {},
   "outputs": [],
   "source": []
  }
 ],
 "metadata": {
  "hide_input": false,
  "kernelspec": {
   "display_name": "Python 3 (ipykernel)",
   "language": "python",
   "name": "python3"
  },
  "language_info": {
   "codemirror_mode": {
    "name": "ipython",
    "version": 3
   },
   "file_extension": ".py",
   "mimetype": "text/x-python",
   "name": "python",
   "nbconvert_exporter": "python",
   "pygments_lexer": "ipython3",
   "version": "3.7.16"
  },
  "varInspector": {
   "cols": {
    "lenName": 16,
    "lenType": 16,
    "lenVar": 40
   },
   "kernels_config": {
    "python": {
     "delete_cmd_postfix": "",
     "delete_cmd_prefix": "del ",
     "library": "var_list.py",
     "varRefreshCmd": "print(var_dic_list())"
    },
    "r": {
     "delete_cmd_postfix": ") ",
     "delete_cmd_prefix": "rm(",
     "library": "var_list.r",
     "varRefreshCmd": "cat(var_dic_list()) "
    }
   },
   "types_to_exclude": [
    "module",
    "function",
    "builtin_function_or_method",
    "instance",
    "_Feature"
   ],
   "window_display": false
  }
 },
 "nbformat": 4,
 "nbformat_minor": 5
}
